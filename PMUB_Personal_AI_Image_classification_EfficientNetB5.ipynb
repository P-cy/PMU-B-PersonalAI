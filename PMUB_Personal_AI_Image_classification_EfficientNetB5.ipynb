{
  "nbformat": 4,
  "nbformat_minor": 0,
  "metadata": {
    "colab": {
      "provenance": [],
      "gpuType": "T4",
      "include_colab_link": true
    },
    "kernelspec": {
      "name": "python3",
      "display_name": "Python 3"
    },
    "language_info": {
      "name": "python"
    },
    "accelerator": "GPU"
  },
  "cells": [
    {
      "cell_type": "markdown",
      "metadata": {
        "id": "view-in-github",
        "colab_type": "text"
      },
      "source": [
        "<a href=\"https://colab.research.google.com/github/P-cy/PMU-B-PersonalAI/blob/main/PMUB_Personal_AI_Image_classification_EfficientNetB5.ipynb\" target=\"_parent\"><img src=\"https://colab.research.google.com/assets/colab-badge.svg\" alt=\"Open In Colab\"/></a>"
      ]
    },
    {
      "cell_type": "markdown",
      "source": [
        "# Cats vs Dogs : Image Classification using EfficienNet"
      ],
      "metadata": {
        "id": "EiIp4eOrqLda"
      }
    },
    {
      "cell_type": "markdown",
      "source": [
        "## Data Description\n",
        "\n",
        "**The training archive contains 25,000 images of dogs and cats.**\n"
      ],
      "metadata": {
        "id": "Oui-3Y0Nq7er"
      }
    },
    {
      "cell_type": "markdown",
      "source": [
        "## Install"
      ],
      "metadata": {
        "id": "V1PAq5OAs5wK"
      }
    },
    {
      "cell_type": "code",
      "source": [
        "!pip install efficientnet"
      ],
      "metadata": {
        "id": "DX6YM2rss2jV"
      },
      "execution_count": null,
      "outputs": []
    },
    {
      "cell_type": "markdown",
      "source": [
        "## Loading Libraries\n",
        "\n",
        "> TensorFlow"
      ],
      "metadata": {
        "id": "gA0gvRFwrU34"
      }
    },
    {
      "cell_type": "code",
      "source": [
        "from google.colab import drive\n",
        "drive.mount('/content/drive')"
      ],
      "metadata": {
        "id": "HDx5294zmcAT"
      },
      "execution_count": null,
      "outputs": []
    },
    {
      "cell_type": "code",
      "source": [
        "# Basic\n",
        "import os\n",
        "from os import makedirs\n",
        "from os import listdir\n",
        "from shutil import copyfile\n",
        "from random import seed\n",
        "from random import random\n",
        "import numpy as np\n",
        "import pandas as pd\n",
        "from PIL import Image, ImageFile\n",
        "\n",
        "# visuals\n",
        "import seaborn as sns\n",
        "import matplotlib.pyplot as plt\n",
        "from matplotlib.image import imread\n",
        "from PIL import Image\n",
        "\n",
        "# Scikit-learn\n",
        "from sklearn.model_selection import train_test_split\n",
        "from sklearn.metrics import classification_report,confusion_matrix,ConfusionMatrixDisplay\n",
        "\n",
        "# Tensorflow\n",
        "!pip install tensorflow==2.14.0\n",
        "import tensorflow as tf\n",
        "from tensorflow.keras import callbacks\n",
        "from keras.callbacks import Callback\n",
        "from keras import layers\n",
        "from keras import models\n",
        "from tensorflow.keras import optimizers\n",
        "from keras.optimizers import Adam\n",
        "from efficientnet.keras import center_crop_and_resize, preprocess_input\n",
        "from tensorflow.keras.preprocessing.image import ImageDataGenerator"
      ],
      "metadata": {
        "id": "f1QCaVycrTnv"
      },
      "execution_count": null,
      "outputs": []
    },
    {
      "cell_type": "code",
      "source": [
        "import tensorflow as tf\n",
        "print(tf.__version__)"
      ],
      "metadata": {
        "id": "ul0-ggWWoGZ7"
      },
      "execution_count": null,
      "outputs": []
    },
    {
      "cell_type": "code",
      "source": [
        "dataset_url = 'https://download.microsoft.com/download/3/E/1/3E1C3F21-ECDB-4869-8368-6DEBA77B919F/kagglecatsanddogs_5340.zip'"
      ],
      "metadata": {
        "id": "QC2tnx9d3b8r"
      },
      "execution_count": null,
      "outputs": []
    },
    {
      "cell_type": "markdown",
      "source": [
        "## Data Extraction"
      ],
      "metadata": {
        "id": "El-CAHcltHDC"
      }
    },
    {
      "cell_type": "code",
      "source": [
        "data_dir = '/content/sample_data'\n",
        "%cd '/content/sample_data'\n",
        "!pwd"
      ],
      "metadata": {
        "id": "L2XQmekZ3fqD"
      },
      "execution_count": null,
      "outputs": []
    },
    {
      "cell_type": "code",
      "source": [
        "path_to_downloaded_file = tf.keras.utils.get_file(\n",
        "    origin=dataset_url,\n",
        "    extract=True,\n",
        ")"
      ],
      "metadata": {
        "id": "lxTwfMW98XDs"
      },
      "execution_count": null,
      "outputs": []
    },
    {
      "cell_type": "code",
      "source": [
        "path_to_downloaded_file"
      ],
      "metadata": {
        "id": "K7z7Mh8-8ive"
      },
      "execution_count": null,
      "outputs": []
    },
    {
      "cell_type": "code",
      "source": [
        "import zipfile\n",
        "\n",
        "with zipfile.ZipFile(path_to_downloaded_file, 'r') as zipp:\n",
        "    zipp.extractall(data_dir)"
      ],
      "metadata": {
        "id": "i3OTRS-_9QJe"
      },
      "execution_count": null,
      "outputs": []
    },
    {
      "cell_type": "code",
      "source": [
        "import glob\n",
        "\n",
        "Cat_count = len(list(glob.glob(f'{data_dir}/PetImages/Cat/*.jpg')))\n",
        "print('Cat: ', Cat_count)\n",
        "\n",
        "Dog_count = len(list(glob.glob(f'{data_dir}/PetImages/Dog/*.jpg')))\n",
        "print('Dog: ', Dog_count)"
      ],
      "metadata": {
        "id": "Tymy0Zk89QLX"
      },
      "execution_count": null,
      "outputs": []
    },
    {
      "cell_type": "markdown",
      "source": [
        "### Loading Images in a Dataframe"
      ],
      "metadata": {
        "id": "kfKK84PP_Dlj"
      }
    },
    {
      "cell_type": "code",
      "source": [
        "import glob\n",
        "import pandas as pd\n",
        "\n",
        "df_dada = pd.DataFrame(columns=['filename', 'label'])\n",
        "list_dir = [\"Cat\", \"Dog\"]\n",
        "all_data = [] # Create an empty list to store DataFrames\n",
        "\n",
        "for label in list_dir:\n",
        "    filenames = list(glob.glob(f'{data_dir}/PetImages/{label}/*.jpg'))\n",
        "    data = pd.DataFrame({\"filename\": filenames, \"label\": label})\n",
        "    data = data.iloc[:1250,]\n",
        "    all_data.append(data) # Append each DataFrame to the list\n",
        "\n",
        "df_dada = pd.concat(all_data, ignore_index=True) # Concatenate all DataFrames in the list\n",
        "\n",
        "print(df_dada.shape)\n",
        "df_dada.head()"
      ],
      "metadata": {
        "id": "v6THfHCX9y0h"
      },
      "execution_count": null,
      "outputs": []
    },
    {
      "cell_type": "markdown",
      "source": [
        "## Data Exploration"
      ],
      "metadata": {
        "id": "wnbx4Ve7CTF7"
      }
    },
    {
      "cell_type": "code",
      "source": [
        "plt.figure(figsize=(20,20)) # specifying the overall grid size\n",
        "plt.subplots_adjust(hspace=0.4)\n",
        "\n",
        "\n",
        "for i in range(10):\n",
        "\n",
        "    plt.subplot(1,10,i+1)    # the number of images in the grid is 10*10 (100)\n",
        "    filename = f'{data_dir}/PetImages/Dog/{str(i)}.jpg'\n",
        "    image = imread(filename)\n",
        "    plt.imshow(image)\n",
        "    plt.title('Dog',fontsize=12)\n",
        "    plt.axis('off')\n",
        "\n",
        "plt.show()"
      ],
      "metadata": {
        "id": "LP9UgEZ8oGke"
      },
      "execution_count": null,
      "outputs": []
    },
    {
      "cell_type": "code",
      "source": [
        "plt.figure(figsize=(20,20)) # specifying the overall grid size\n",
        "plt.subplots_adjust(hspace=0.4)\n",
        "\n",
        "\n",
        "for i in range(10):\n",
        "\n",
        "    plt.subplot(1,10,i+1)    # the number of images in the grid is 10*10 (100)\n",
        "    filename = f'{data_dir}/PetImages/Cat/{str(i)}.jpg'\n",
        "    image = imread(filename)\n",
        "    plt.imshow(image)\n",
        "    plt.title('Cat',fontsize=12)\n",
        "    plt.axis('off')"
      ],
      "metadata": {
        "id": "ypM1JYSsCFpC"
      },
      "execution_count": null,
      "outputs": []
    },
    {
      "cell_type": "markdown",
      "source": [
        "### Train Test Split"
      ],
      "metadata": {
        "id": "Gy-Ef4fODZ7q"
      }
    },
    {
      "cell_type": "code",
      "source": [
        "# train test split using dataframe\n",
        "\n",
        "labels = df_dada['label']\n",
        "\n",
        "X_train, X_temp = train_test_split(df_dada, test_size=0.2, stratify=labels, random_state = 42)\n",
        "\n",
        "label_test_val = X_temp['label']\n",
        "\n",
        "X_test, X_val = train_test_split(X_temp, test_size=0.5, stratify=label_test_val, random_state = 42)\n",
        "\n",
        "print('The shape of train data',X_train.shape)\n",
        "print('The shape of test data',X_test.shape)\n",
        "print('The shape of validation data',X_val.shape)"
      ],
      "metadata": {
        "id": "5MZFh9mICFq7"
      },
      "execution_count": null,
      "outputs": []
    },
    {
      "cell_type": "code",
      "source": [
        "labels = ['Cat','Dog']\n",
        "\n",
        "label1,count1 = np.unique(X_train.label,return_counts=True)\n",
        "label2,count2 = np.unique(X_val.label,return_counts=True)\n",
        "label3,count3 = np.unique(X_test.label,return_counts=True)\n",
        "\n",
        "uni1 = pd.DataFrame(data=count1,index=labels,columns=['Count1'])\n",
        "uni2 = pd.DataFrame(data=count2,index=labels,columns=['Count2'])\n",
        "uni3 = pd.DataFrame(data=count3,index=labels,columns=['Count3'])\n",
        "\n",
        "\n",
        "plt.figure(figsize=(20,6),dpi=200)\n",
        "sns.set_style('darkgrid')\n",
        "\n",
        "plt.subplot(131)\n",
        "sns.barplot(data=uni1,x=uni1.index,y='Count1',palette='icefire',width=0.2).set_title('Class distribution in Training set',fontsize=15)\n",
        "plt.xlabel('Labels',fontsize=12)\n",
        "plt.ylabel('Count',fontsize=12)\n",
        "\n",
        "plt.subplot(132)\n",
        "sns.barplot(data=uni2,x=uni2.index,y='Count2',palette='icefire',width=0.2).set_title('Class distribution in validation set',fontsize=15)\n",
        "plt.xlabel('Labels',fontsize=12)\n",
        "plt.ylabel('Count',fontsize=12)\n",
        "\n",
        "\n",
        "plt.subplot(133)\n",
        "sns.barplot(data=uni3,x=uni3.index,y='Count3',palette='icefire',width=0.2).set_title('Class distribution in Testing set',fontsize=15)\n",
        "plt.xlabel('Labels',fontsize=12)\n",
        "plt.ylabel('Count',fontsize=12)\n",
        "\n",
        "plt.show()"
      ],
      "metadata": {
        "id": "ngIOWslNoGoE"
      },
      "execution_count": null,
      "outputs": []
    },
    {
      "cell_type": "markdown",
      "source": [
        "### Data Preparation"
      ],
      "metadata": {
        "id": "S7JguYEgD9qY"
      }
    },
    {
      "cell_type": "code",
      "source": [
        "# parameters\n",
        "target_size = (456, 456)\n",
        "batch_size = 16"
      ],
      "metadata": {
        "id": "Fu4KOPBYoGsd"
      },
      "execution_count": null,
      "outputs": []
    },
    {
      "cell_type": "markdown",
      "source": [
        "### Image Data Generator\n",
        "\n",
        "-  The data for will used by flow_from_dataframe.\n",
        "\n",
        "- The batch size is 16 and the image size is (456, 456)."
      ],
      "metadata": {
        "id": "MAEB1MteEcgF"
      }
    },
    {
      "cell_type": "code",
      "source": [
        "# Creating image data generator\n",
        "train_datagen = ImageDataGenerator(rescale=1./255,\n",
        "                                    rotation_range = 15,\n",
        "                                    horizontal_flip = True,\n",
        "                                    zoom_range = 0.2,\n",
        "                                    shear_range = 0.1,\n",
        "                                    fill_mode = 'nearest',\n",
        "                                    width_shift_range = 0.1,\n",
        "                                    height_shift_range = 0.1)\n",
        "\n",
        "test_datagen = ImageDataGenerator(rescale=1./255)"
      ],
      "metadata": {
        "id": "iT0ib5JjoGul"
      },
      "execution_count": null,
      "outputs": []
    },
    {
      "cell_type": "code",
      "source": [
        "# Applying image data gernerator to train and test data\n",
        "\n",
        "train_generator = train_datagen.flow_from_dataframe(X_train,\n",
        "                                                    directory = None,\n",
        "                                                    x_col= 'filename',\n",
        "                                                    y_col= 'label',\n",
        "                                                    batch_size = batch_size,\n",
        "                                                    target_size = target_size,\n",
        "                                                    class_mode='categorical',\n",
        "                                                    color_mode= 'rgb'\n",
        "                                                   )\n",
        "val_generator = test_datagen.flow_from_dataframe(X_val,\n",
        "                                                 directory = None,\n",
        "                                                 x_col= 'filename',\n",
        "                                                 y_col= 'label',\n",
        "                                                 batch_size = batch_size,\n",
        "                                                 target_size = target_size,\n",
        "                                                 class_mode='categorical',\n",
        "                                                 color_mode= 'rgb'\n",
        "                                                )\n",
        "\n",
        "test_generator = test_datagen.flow_from_dataframe(X_test,\n",
        "                                                  directory = None,\n",
        "                                                  x_col= 'filename',\n",
        "                                                  y_col= 'label',\n",
        "                                                  batch_size = batch_size,\n",
        "                                                  target_size = target_size,\n",
        "                                                  class_mode='categorical',\n",
        "                                                  color_mode= 'rgb'\n",
        "                                                 )"
      ],
      "metadata": {
        "id": "L8j2c4AloGyC"
      },
      "execution_count": null,
      "outputs": []
    },
    {
      "cell_type": "code",
      "source": [
        "#label\n",
        "labels = (train_generator.class_indices)\n",
        "print(labels)"
      ],
      "metadata": {
        "id": "1JB8RJezQa2q"
      },
      "execution_count": null,
      "outputs": []
    },
    {
      "cell_type": "code",
      "source": [
        "import cv2\n",
        "import PIL\n",
        "from PIL import Image\n",
        "\n",
        "%matplotlib inline\n",
        "from matplotlib import pyplot as plt\n",
        "\n",
        "w = 10\n",
        "h = 10\n",
        "fig = plt.figure(figsize=(12, 15))\n",
        "columns = 4\n",
        "rows = 4\n",
        "x, y = train_generator.next()\n",
        "for i in range(0, columns*rows):\n",
        "    image = x[i]\n",
        "    fig.add_subplot(rows, columns, i+1)\n",
        "    plt.imshow(image)\n",
        "plt.show()"
      ],
      "metadata": {
        "id": "d4FPn0_ORtp8"
      },
      "execution_count": null,
      "outputs": []
    },
    {
      "cell_type": "markdown",
      "source": [
        "## EfficienNet Model"
      ],
      "metadata": {
        "id": "oXLHD6IRGur-"
      }
    },
    {
      "cell_type": "code",
      "source": [
        "# loading pretrained conv base model\n",
        "from efficientnet.keras import EfficientNetB5 as Net\n",
        "\n",
        "input_shape = (456, 456, 3)\n",
        "conv_base = Net(weights='imagenet', include_top=False, input_shape=input_shape)\n",
        "print(f\"Input Shape: {input_shape}\")\n",
        "\n",
        "# create new model with a new classification layer\n",
        "x = conv_base.output\n",
        "global_average_layer = layers.GlobalAveragePooling2D(name = 'head_pooling')(x)\n",
        "dropout_layer = layers.Dropout(0.20,name = 'head_dropout')(global_average_layer)\n",
        "prediction_layer = layers.Dense(2, activation='softmax',name = 'predict_Cat_Dog')(dropout_layer)\n",
        "\n",
        "### FC layer\n",
        "model = models.Model(inputs= conv_base.input, outputs=prediction_layer, name = 'EffNet_Cat_Dog')"
      ],
      "metadata": {
        "id": "hlpgfUYGoG2G"
      },
      "execution_count": null,
      "outputs": []
    },
    {
      "cell_type": "code",
      "source": [
        "### Unfreeze FC layer\n",
        "print('[INFO]: This is the number of trainable layers '\n",
        "      'before freezing the conv base:', len(model.trainable_weights))\n",
        "print('[INFO]: Freezing hidden layers...')\n",
        "for layer in conv_base.layers:\n",
        "    layer.trainable = False\n",
        "\n",
        "print('[INFO]: This is the number of trainable layers '\n",
        "        'after freezing the conv base:', len(model.trainable_weights))\n",
        "print('-'*125)"
      ],
      "metadata": {
        "id": "MiOwTp90oG3z"
      },
      "execution_count": null,
      "outputs": []
    },
    {
      "cell_type": "code",
      "source": [
        "model.summary()"
      ],
      "metadata": {
        "id": "8n8VLhdqJzi6"
      },
      "execution_count": null,
      "outputs": []
    },
    {
      "cell_type": "markdown",
      "source": [
        "## Callbacks\n",
        "\n",
        "- ReduceLROnPlateau : Reduce learning rate when a metric has stopped improving."
      ],
      "metadata": {
        "id": "u7wI85kWJvky"
      }
    },
    {
      "cell_type": "code",
      "source": [
        "from tensorflow.keras.callbacks import ReduceLROnPlateau,EarlyStopping\n",
        "\n",
        "learning_rate_reduction = ReduceLROnPlateau(monitor = 'val_accuracy',\n",
        "                                              patience=2,\n",
        "                                              factor=0.5,\n",
        "                                              min_lr = 0.00001,\n",
        "                                              verbose = 1)"
      ],
      "metadata": {
        "id": "avWX7EArpqLu"
      },
      "execution_count": null,
      "outputs": []
    },
    {
      "cell_type": "markdown",
      "source": [
        "## Compile the model"
      ],
      "metadata": {
        "id": "EM3wYq0cLgXo"
      }
    },
    {
      "cell_type": "code",
      "source": [
        "from keras.optimizers import Adam\n",
        "\n",
        "lr=1e-4\n",
        "#Training\n",
        "model.compile(loss='categorical_crossentropy',\n",
        "              optimizer=optimizers.RMSprop(learning_rate=lr),\n",
        "              metrics=['acc'])"
      ],
      "metadata": {
        "id": "paAgD3V_LKI9"
      },
      "execution_count": null,
      "outputs": []
    },
    {
      "cell_type": "markdown",
      "source": [
        "## Fit the model"
      ],
      "metadata": {
        "id": "xE6o1O0MMS8E"
      }
    },
    {
      "cell_type": "code",
      "source": [
        "num_epochs = 20\n",
        "history_eff = model.fit(train_generator,\n",
        "                        epochs = num_epochs,\n",
        "                        validation_data = val_generator,\n",
        "                        callbacks=learning_rate_reduction)"
      ],
      "metadata": {
        "colab": {
          "base_uri": "https://localhost:8080/"
        },
        "id": "F-fIQJzOLKK2",
        "outputId": "92755946-d012-49ff-e6e5-76f00b86cd76"
      },
      "execution_count": null,
      "outputs": [
        {
          "metadata": {
            "tags": null
          },
          "name": "stdout",
          "output_type": "stream",
          "text": [
            "Epoch 1/20\n",
            "125/125 [==============================] - ETA: 0s - loss: 0.3814 - acc: 0.8960 "
          ]
        },
        {
          "metadata": {
            "tags": null
          },
          "name": "stderr",
          "output_type": "stream",
          "text": [
            "WARNING:tensorflow:Learning rate reduction is conditioned on metric `val_accuracy` which is not available. Available metrics are: loss,acc,val_loss,val_acc,lr\n"
          ]
        },
        {
          "metadata": {
            "tags": null
          },
          "name": "stdout",
          "output_type": "stream",
          "text": [
            "125/125 [==============================] - 2740s 22s/step - loss: 0.3814 - acc: 0.8960 - val_loss: 0.2481 - val_acc: 0.9760 - lr: 1.0000e-04\n",
            "Epoch 2/20\n",
            "125/125 [==============================] - ETA: 0s - loss: 0.1826 - acc: 0.9685 "
          ]
        },
        {
          "metadata": {
            "tags": null
          },
          "name": "stderr",
          "output_type": "stream",
          "text": [
            "WARNING:tensorflow:Learning rate reduction is conditioned on metric `val_accuracy` which is not available. Available metrics are: loss,acc,val_loss,val_acc,lr\n"
          ]
        },
        {
          "metadata": {
            "tags": null
          },
          "name": "stdout",
          "output_type": "stream",
          "text": [
            "125/125 [==============================] - 2775s 22s/step - loss: 0.1826 - acc: 0.9685 - val_loss: 0.1432 - val_acc: 0.9800 - lr: 1.0000e-04\n",
            "Epoch 3/20\n",
            "125/125 [==============================] - ETA: 0s - loss: 0.1206 - acc: 0.9745 "
          ]
        },
        {
          "metadata": {
            "tags": null
          },
          "name": "stderr",
          "output_type": "stream",
          "text": [
            "WARNING:tensorflow:Learning rate reduction is conditioned on metric `val_accuracy` which is not available. Available metrics are: loss,acc,val_loss,val_acc,lr\n"
          ]
        },
        {
          "metadata": {
            "tags": null
          },
          "name": "stdout",
          "output_type": "stream",
          "text": [
            "125/125 [==============================] - 2731s 22s/step - loss: 0.1206 - acc: 0.9745 - val_loss: 0.0980 - val_acc: 0.9800 - lr: 1.0000e-04\n",
            "Epoch 4/20\n",
            "125/125 [==============================] - ETA: 0s - loss: 0.0940 - acc: 0.9805 "
          ]
        },
        {
          "metadata": {
            "tags": null
          },
          "name": "stderr",
          "output_type": "stream",
          "text": [
            "WARNING:tensorflow:Learning rate reduction is conditioned on metric `val_accuracy` which is not available. Available metrics are: loss,acc,val_loss,val_acc,lr\n"
          ]
        },
        {
          "output_type": "stream",
          "name": "stdout",
          "text": [
            "125/125 [==============================] - 2698s 22s/step - loss: 0.0940 - acc: 0.9805 - val_loss: 0.0735 - val_acc: 0.9880 - lr: 1.0000e-04\n",
            "Epoch 5/20\n",
            " 24/125 [====>.........................] - ETA: 33:04 - loss: 0.0771 - acc: 0.9844"
          ]
        }
      ]
    },
    {
      "cell_type": "code",
      "source": [
        "## Set up model path\n",
        "#Categorical Crossentropy\n",
        "modelName  = \"EffNetB5_CategoricalCrossentropy_Cat_Dog_Classes.h5\"\n",
        "Model2save = f\"/content/drive/MyDrive/{modelName}\"\n",
        "model.save(Model2save)\n",
        "### print\n",
        "print(f\"[INFO]: Save Model as: {Model2save}\")\n",
        "print(f\"*\"*100)"
      ],
      "metadata": {
        "id": "9URuj5d5JzlO"
      },
      "execution_count": null,
      "outputs": []
    },
    {
      "cell_type": "markdown",
      "source": [
        "# Plot the results"
      ],
      "metadata": {
        "id": "tBxmQxp6dmzj"
      }
    },
    {
      "cell_type": "code",
      "source": [
        "train_acc = history_eff.history['acc']\n",
        "train_loss = history_eff.history['loss']\n",
        "\n",
        "val_acc = history_eff.history['val_acc']\n",
        "val_loss = history_eff.history['val_loss']\n",
        "\n",
        "index_loss = np.argmin(val_loss)\n",
        "index_acc = np.argmax(val_acc)\n",
        "\n",
        "val_lowest = val_loss[index_loss]\n",
        "val_highest = val_acc[index_acc]\n",
        "\n",
        "Epochs = [i+1 for i in range(len(train_acc))]\n",
        "\n",
        "loss_label = f'Best Epoch = {str(index_loss + 1)}'\n",
        "acc_label = f'Best Epoch = {str(index_acc + 1)}'\n",
        "\n",
        "plt.figure(figsize= (20,8))\n",
        "plt.style.use('fivethirtyeight')\n",
        "\n",
        "plt.subplot(1,2,1)\n",
        "plt.plot(Epochs , train_loss , 'r', label = 'Training Loss')\n",
        "plt.plot(Epochs , val_loss , 'g' , label = 'Validation Loss')\n",
        "plt.scatter(index_loss +1 , val_lowest , s = 150 , c = 'blue' , label = loss_label)\n",
        "plt.title('Training vs Validation (loss)')\n",
        "plt.xlabel('Epochs')\n",
        "plt.ylabel('Loss')\n",
        "plt.legend()\n",
        "\n",
        "plt.subplot(1,2,2)\n",
        "plt.plot(Epochs , train_acc , 'r', label= 'Training Accuracy')\n",
        "plt.plot(Epochs , val_acc , 'g' , label = 'Validation Accuracy')\n",
        "plt.scatter(index_acc + 1 , val_highest , s= 150 , c = 'blue' , label= acc_label)\n",
        "plt.title('Training vs Validation (Accuracy)')\n",
        "plt.xlabel('Epochs')\n",
        "plt.ylabel('Accuracy')\n",
        "plt.legend()\n",
        "\n",
        "plt.tight_layout\n",
        "plt.show();"
      ],
      "metadata": {
        "id": "PUv_HqEv6oqk"
      },
      "execution_count": null,
      "outputs": []
    },
    {
      "cell_type": "markdown",
      "source": [
        "# Evaluation"
      ],
      "metadata": {
        "id": "xJZkWplYduO4"
      }
    },
    {
      "cell_type": "code",
      "source": [
        "# Evaluvate for train generator\n",
        "loss,acc = model.evaluate(train_generator,batch_size = val_generator, verbose = 0)\n",
        "\n",
        "print('The accuracy of the model for training data is:',acc*100)\n",
        "print('The Loss of the model for training data is:',loss)\n",
        "\n",
        "# Evaluvate for validation generator\n",
        "loss,acc = model.evaluate(val_generator,batch_size = val_generator, verbose = 0)\n",
        "\n",
        "print('The accuracy of the model for validation data is:',acc*100)\n",
        "print('The Loss of the model for validation data is:',loss)"
      ],
      "metadata": {
        "id": "IpZOa03cKF61"
      },
      "execution_count": null,
      "outputs": []
    },
    {
      "cell_type": "markdown",
      "source": [
        "# Prediction"
      ],
      "metadata": {
        "id": "deuL1PBLfSij"
      }
    },
    {
      "cell_type": "code",
      "source": [
        "import os\n",
        "import numpy as np\n",
        "import efficientnet.tfkeras\n",
        "from tensorflow.keras.models import load_model\n",
        "import tensorflow as tf\n",
        "import pandas as pd\n",
        "\n",
        "from tensorflow.keras.preprocessing import image\n",
        "from tensorflow.keras.utils import get_file"
      ],
      "metadata": {
        "id": "c_KVdMTLf9Mz"
      },
      "execution_count": null,
      "outputs": []
    },
    {
      "cell_type": "markdown",
      "source": [
        "## Load model"
      ],
      "metadata": {
        "id": "lcXayh01gO7k"
      }
    },
    {
      "cell_type": "code",
      "source": [
        "model_dir = \"/content/drive/MyDrive/EffNetB5_CategoricalCrossentropy_Cat_Dog_Classes.h5\"\n",
        "model_B5 = load_model(model_dir)\n",
        "height = width = model_B5.input_shape[1]\n",
        "print(height, width)"
      ],
      "metadata": {
        "id": "3QNO_aCmf9PK"
      },
      "execution_count": null,
      "outputs": []
    },
    {
      "cell_type": "code",
      "source": [
        "model_B5.summary()"
      ],
      "metadata": {
        "id": "TAehRS-vf9RQ"
      },
      "execution_count": null,
      "outputs": []
    },
    {
      "cell_type": "code",
      "source": [
        "# label_dict = {0: 'Cat', 1: 'Dog'}\n",
        "# print(label_dict)\n",
        "\n",
        "label_dict = dict((v,k) for k,v in labels.items())\n",
        "print(label_dict)"
      ],
      "metadata": {
        "id": "-7TnhmuJBtdx"
      },
      "execution_count": null,
      "outputs": []
    },
    {
      "cell_type": "code",
      "source": [
        "def process_image(img_path):\n",
        "    # Read the image and resize it\n",
        "    img = image.load_img(img_path, target_size=(height, width))\n",
        "    # Convert it to a Numpy array with target shape.\n",
        "    x = image.img_to_array(img)\n",
        "    # Reshape\n",
        "    x = x.reshape((1,) + x.shape)\n",
        "    x /= 255.\n",
        "\n",
        "    return x"
      ],
      "metadata": {
        "id": "eMrur2V8Antv"
      },
      "execution_count": null,
      "outputs": []
    },
    {
      "cell_type": "code",
      "source": [
        "def predict(img_path, model_B5):\n",
        "    img_x = process_image(img_path)\n",
        "    predict = model_B5.predict([img_x])\n",
        "    predict0 = predict[0]\n",
        "    result = np.argmax(predict0)\n",
        "    pred_label = label_dict[result]\n",
        "    pred_prob = predict0[result]\n",
        "\n",
        "    print(f\"[INFO]: Predict Classes ==> {pred_label} With Probability {pred_prob*100:.4f}%\")"
      ],
      "metadata": {
        "id": "HqlWA-U_Azd7"
      },
      "execution_count": null,
      "outputs": []
    },
    {
      "cell_type": "code",
      "source": [
        "img_path1 = \"/content/drive/MyDrive/_119932207_indifferentcatgettyimages.jpg\"\n",
        "predict(img_path1, model_B5)\n",
        "image.load_img(img_path1, target_size=(height, width))"
      ],
      "metadata": {
        "id": "M6JAi16QB49t"
      },
      "execution_count": null,
      "outputs": []
    },
    {
      "cell_type": "code",
      "source": [
        "img_path2 = \"/content/drive/MyDrive/images.jpg\"\n",
        "predict(img_path2, model_B5)\n",
        "image.load_img(img_path2, target_size=(height, width))"
      ],
      "metadata": {
        "id": "3sLPRcDFAzhF"
      },
      "execution_count": null,
      "outputs": []
    },
    {
      "cell_type": "code",
      "source": [
        "img_path3 = \"/content/drive/MyDrive/Hero Pedigree Cats.jpg\"\n",
        "predict(img_path3, model_B5)\n",
        "image.load_img(img_path3, target_size=(height, width))"
      ],
      "metadata": {
        "id": "cKBtWhUJAzlK"
      },
      "execution_count": null,
      "outputs": []
    },
    {
      "cell_type": "code",
      "source": [],
      "metadata": {
        "id": "_Y8f9KlzIaqc"
      },
      "execution_count": null,
      "outputs": []
    },
    {
      "cell_type": "code",
      "source": [],
      "metadata": {
        "id": "F_481LsiAzou"
      },
      "execution_count": null,
      "outputs": []
    },
    {
      "cell_type": "code",
      "source": [],
      "metadata": {
        "id": "Hmue5PjyAnw7"
      },
      "execution_count": null,
      "outputs": []
    },
    {
      "cell_type": "markdown",
      "source": [
        "# Exercise\n",
        "\n",
        "ทดลองนำภาพ นก รถยนต์ เสือ สิงโต และ สุนัขจิ้งจอก มาทำการทำนายและรายงานผลการทำนายแต่ละภาพ"
      ],
      "metadata": {
        "id": "wjWVlogOv1_k"
      }
    },
    {
      "cell_type": "code",
      "source": [
        "img_path4 = \"/content/drive/MyDrive/PMUB_PersonalAI/BitNet/Exercise/bird.jpeg\"\n",
        "predict(img_path4, model_B5)\n",
        "image.load_img(img_path4, target_size=(height, width))"
      ],
      "metadata": {
        "id": "8hYxtjlOHpWK"
      },
      "execution_count": null,
      "outputs": []
    },
    {
      "cell_type": "code",
      "source": [
        "img_path5 = \"/content/drive/MyDrive/PMUB_PersonalAI/BitNet/Exercise/car.png\"\n",
        "predict(img_path5, model_B5)\n",
        "image.load_img(img_path4, target_size=(height, width))"
      ],
      "metadata": {
        "id": "DlNqPntJNGGe"
      },
      "execution_count": null,
      "outputs": []
    },
    {
      "cell_type": "code",
      "source": [
        "img_path6 = \"/content/drive/MyDrive/PMUB_PersonalAI/BitNet/Exercise/tiger.jpg\"\n",
        "predict(img_path6, model_B5)\n",
        "image.load_img(img_path4, target_size=(height, width))"
      ],
      "metadata": {
        "id": "4ze2oC4SNO11"
      },
      "execution_count": null,
      "outputs": []
    },
    {
      "cell_type": "code",
      "source": [
        "img_path7 = \"/content/drive/MyDrive/PMUB_PersonalAI/BitNet/Exercise/lion.jpg\"\n",
        "predict(img_path7, model_B5)\n",
        "image.load_img(img_path4, target_size=(height, width))"
      ],
      "metadata": {
        "id": "6vZJZESGNVuN"
      },
      "execution_count": null,
      "outputs": []
    },
    {
      "cell_type": "code",
      "source": [
        "img_path8 = \"/content/drive/MyDrive/PMUB_PersonalAI/BitNet/Exercise/fox.jpg\"\n",
        "predict(img_path8, model_B5)\n",
        "image.load_img(img_path4, target_size=(height, width))"
      ],
      "metadata": {
        "id": "knUAC9gUNa98"
      },
      "execution_count": null,
      "outputs": []
    },
    {
      "cell_type": "markdown",
      "source": [
        "# Exercise\n",
        "\n",
        "Print output ของ network"
      ],
      "metadata": {
        "id": "-zG4kqCdkANC"
      }
    },
    {
      "cell_type": "code",
      "source": [
        "print(predictions)"
      ],
      "metadata": {
        "id": "eMypKkHRHpd_"
      },
      "execution_count": null,
      "outputs": []
    },
    {
      "cell_type": "markdown",
      "source": [
        "--------------------------------------------------------------------------------------"
      ],
      "metadata": {
        "id": "6RV3HGsTHJzU"
      }
    },
    {
      "cell_type": "markdown",
      "source": [
        "## Evaluating Model Performance\n",
        "\n",
        "- Confusion matrix"
      ],
      "metadata": {
        "id": "ENAsOiJRHU7q"
      }
    },
    {
      "cell_type": "code",
      "source": [
        "print(X_test.shape)\n",
        "X_test.head()"
      ],
      "metadata": {
        "id": "i2eVM5U47p8o"
      },
      "execution_count": null,
      "outputs": []
    },
    {
      "cell_type": "code",
      "source": [
        "# label_dict = {0: 'Cat', 1: 'Dog'}\n",
        "# print(label_dict)\n",
        "\n",
        "label_dict = dict((v,k) for k,v in labels.items())\n",
        "print(label_dict)"
      ],
      "metadata": {
        "id": "dVLvu22Mihh2"
      },
      "execution_count": null,
      "outputs": []
    },
    {
      "cell_type": "code",
      "source": [
        "from tensorflow.keras.preprocessing import image\n",
        "\n",
        "def predict_image(img_path):\n",
        "    # Read the image and resize it\n",
        "    img = image.load_img(img_path, target_size=(height, width))\n",
        "    # Convert it to a Numpy array with target shape.\n",
        "    x = image.img_to_array(img)\n",
        "    # Reshape\n",
        "    x = x.reshape((1,) + x.shape)\n",
        "    x /= 255.\n",
        "    result = model.predict([x])\n",
        "\n",
        "    return result[0]"
      ],
      "metadata": {
        "id": "_jlwf8tk7d9b"
      },
      "execution_count": null,
      "outputs": []
    },
    {
      "cell_type": "code",
      "source": [
        "#Predict\n",
        "pred_list = list()\n",
        "prob_list = list()\n",
        "img_path=X_test['filename'].tolist()\n",
        "for i in range(0,len(img_path)):\n",
        "    predict = predict_image(img_path[i])\n",
        "    result = np.argmax(predict)\n",
        "    pred_list.append(label_dict[result])\n",
        "    prob_list.append(predict[result])"
      ],
      "metadata": {
        "id": "krNcOGHn94hm"
      },
      "execution_count": null,
      "outputs": []
    },
    {
      "cell_type": "code",
      "source": [
        "predict"
      ],
      "metadata": {
        "id": "Pu3KQvGE_zLB"
      },
      "execution_count": null,
      "outputs": []
    },
    {
      "cell_type": "code",
      "source": [
        "print(len(pred_list))\n",
        "print(len(prob_list))\n",
        "\n",
        "X_test['category'] = pred_list\n",
        "X_test['Prob'] = prob_list\n",
        "X_test.head()"
      ],
      "metadata": {
        "id": "hHcDHsvO_wnO"
      },
      "execution_count": null,
      "outputs": []
    },
    {
      "cell_type": "code",
      "source": [
        "import numpy as np\n",
        "from sklearn.metrics import confusion_matrix\n",
        "\n",
        "act = X_test['label'].array\n",
        "pred = X_test['category'].array\n",
        "\n",
        "cmat = confusion_matrix(act, pred)\n",
        "print('classifier accuracy = {}%'.format((100.*np.trace(cmat))/(np.sum(cmat))))\n",
        "\n",
        "#Marking the Confusion Matrix\n",
        "from sklearn.metrics import classification_report,confusion_matrix\n",
        "print(classification_report(act, pred))#performance"
      ],
      "metadata": {
        "id": "ydZWn_6y_qX-"
      },
      "execution_count": null,
      "outputs": []
    },
    {
      "cell_type": "markdown",
      "source": [
        "## Confusion matrix"
      ],
      "metadata": {
        "id": "PdY3mo5HAijd"
      }
    },
    {
      "cell_type": "code",
      "source": [
        "#create CF\n",
        "data = {'Actual': act,'Predicted' : pred,}\n",
        "df = pd.DataFrame(data, columns=['Actual','Predicted'])\n",
        "conf_mat = pd.crosstab(df['Actual'],df['Predicted'],rownames=['Actual'],colnames=['Predicted'])\n",
        "\n",
        "#Confusion matrix\n",
        "from sklearn.metrics import confusion_matrix\n",
        "import matplotlib.pyplot as plt\n",
        "cm = confusion_matrix(act, pred)\n",
        "\n",
        "#plot Confusion matrix\n",
        "import seaborn as sns\n",
        "sns.set()\n",
        "fig, ax = plt.subplots(figsize=(8, 5))\n",
        "\n",
        "ax = sns.heatmap(conf_mat, annot=True, fmt=\"d\", cmap=\"YlGnBu\") #Blues,Oranges,Reds\n",
        "ax.set_title('Confusion matrix',fontsize=20)\n",
        "ax.set_ylabel('True label',fontsize=18)\n",
        "ax.set_xlabel('Predicted label',fontsize=18)"
      ],
      "metadata": {
        "id": "MudM6w2KAkZp"
      },
      "execution_count": null,
      "outputs": []
    },
    {
      "cell_type": "markdown",
      "source": [
        "---------------------------------------"
      ],
      "metadata": {
        "id": "dxc6Vo_3HAsx"
      }
    },
    {
      "cell_type": "code",
      "source": [
        "img_path=X_test['filename'].tolist()\n",
        "img_x  = predict_image(img_path[0])\n",
        "img_x"
      ],
      "metadata": {
        "id": "eQRYa4rR73-l"
      },
      "execution_count": null,
      "outputs": []
    },
    {
      "cell_type": "code",
      "source": [
        "image.load_img(img_path[0], target_size=(height, width))"
      ],
      "metadata": {
        "id": "meG_3mwO8t4X"
      },
      "execution_count": null,
      "outputs": []
    },
    {
      "cell_type": "code",
      "source": [],
      "metadata": {
        "id": "zNHZF1dhHQ99"
      },
      "execution_count": null,
      "outputs": []
    }
  ]
}